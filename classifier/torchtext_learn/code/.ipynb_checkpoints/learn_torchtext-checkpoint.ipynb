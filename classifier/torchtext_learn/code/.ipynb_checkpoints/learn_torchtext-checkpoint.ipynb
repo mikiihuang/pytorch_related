{
 "cells": [
  {
   "cell_type": "code",
   "execution_count": 2,
   "metadata": {},
   "outputs": [],
   "source": [
    "import torchtext\n",
    "from torchtext import data,datasets"
   ]
  },
  {
   "cell_type": "code",
   "execution_count": 3,
   "metadata": {},
   "outputs": [],
   "source": [
    "train_path = \"../data/train.csv\" \n",
    "val_path =  \"../data/valid.csv\"  \n",
    "test_path = \"../data/test.csv\"   "
   ]
  },
  {
   "cell_type": "markdown",
   "metadata": {},
   "source": [
    "定义自己的分词器，可以使用中文。"
   ]
  },
  {
   "cell_type": "code",
   "execution_count": 7,
   "metadata": {},
   "outputs": [],
   "source": [
    "def tokenizer(comment):\n",
    "    return [i for i in comment.split(\" \")]\n"
   ]
  },
  {
   "cell_type": "markdown",
   "metadata": {},
   "source": [
    "声明Field字段，告知xi"
   ]
  },
  {
   "cell_type": "code",
   "execution_count": 5,
   "metadata": {},
   "outputs": [],
   "source": [
    "\n",
    "TEXT = data.Field(sequential = True,tokenize=tokenizer,lower=True)         \n",
    "LABLE = data.Field(sequential = False,use_vocab=False)                     "
   ]
  },
  {
   "cell_type": "code",
   "execution_count": 6,
   "metadata": {},
   "outputs": [],
   "source": [
    "TEXT = data.Field(sequential = True,tokenize=tokenizer,lower=True)                                                                                                    \n",
    "LABLE = data.Field(sequential = False,use_vocab=False)                                                                                                                \n",
    "                                                                                                                                                                      \n",
    "train_val_fields = [(\"id\",None),                                                                                                                                      \n",
    "                (\"comment_text\",TEXT),                                                                                                                                \n",
    "                (\"toxic\",LABLE),                                                                                                                                      \n",
    "                (\"severe_toxic\",LABLE),                                                                                                                               \n",
    "                (\"obscene\",LABLE),                                                                                                                                    \n",
    "                (\"threat\",LABLE),                                                                                                                                     \n",
    "                (\"insult\",LABLE),                                                                                                                                     \n",
    "                (\"identity_hate\",LABLE)]                                                                                                                              \n",
    "test_fileds = [(\"id\",None),                                                                                                                                           \n",
    "               (\"comment_text\",TEXT)]                                                                                                                                 \n",
    "                                                                                                                                                                      \n",
    "train_data,val_data= data.TabularDataset.splits(path = \"../data\",format=\"csv\",train = \"train.csv\",validation = \"valid.csv\",fields=train_val_fields,skip_header=True)  \n",
    "test_data = data.TabularDataset(path=test_path,format=\"csv\",fields=test_fileds,skip_header=True)                                                                      "
   ]
  },
  {
   "cell_type": "code",
   "execution_count": null,
   "metadata": {},
   "outputs": [],
   "source": []
  },
  {
   "cell_type": "code",
   "execution_count": null,
   "metadata": {},
   "outputs": [],
   "source": []
  }
 ],
 "metadata": {
  "kernelspec": {
   "display_name": "Python 3",
   "language": "python",
   "name": "python3"
  },
  "language_info": {
   "codemirror_mode": {
    "name": "ipython",
    "version": 3
   },
   "file_extension": ".py",
   "mimetype": "text/x-python",
   "name": "python",
   "nbconvert_exporter": "python",
   "pygments_lexer": "ipython3",
   "version": "3.6.5"
  }
 },
 "nbformat": 4,
 "nbformat_minor": 1
}
